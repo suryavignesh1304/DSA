{
 "cells": [
  {
   "cell_type": "code",
   "execution_count": 1,
   "metadata": {},
   "outputs": [
    {
     "name": "stdout",
     "output_type": "stream",
     "text": [
      "Top element after pushing: 5\n",
      "Circular linked list contents: 5 -> 4 -> 3 -> 2 -> 1\n"
     ]
    }
   ],
   "source": [
    "class Node:\n",
    "    def __init__(self, data=None):\n",
    "        self.data = data\n",
    "        self.next = None\n",
    "\n",
    "class CircularLinkedList:\n",
    "    def __init__(self):\n",
    "        self.head = None\n",
    "\n",
    "    def push(self, data):\n",
    "        new_node = Node(data)\n",
    "        if self.head is None:\n",
    "            self.head = new_node\n",
    "            new_node.next = self.head\n",
    "        else:\n",
    "            current = self.head\n",
    "            while current.next != self.head:\n",
    "                current = current.next\n",
    "            current.next = new_node\n",
    "            new_node.next = self.head\n",
    "            self.head = new_node\n",
    "\n",
    "    def pop(self):\n",
    "        if self.is_empty():\n",
    "            raise IndexError('Popping from an empty list')\n",
    "        if self.head.next == self.head:\n",
    "            popped_node = self.head\n",
    "            self.head = None\n",
    "            return popped_node.data\n",
    "        else:\n",
    "            current = self.head\n",
    "            while current.next != self.head:\n",
    "                current = current.next\n",
    "            popped_node = self.head\n",
    "            current.next = self.head.next\n",
    "            self.head = self.head.next\n",
    "            return popped_node.data\n",
    "\n",
    "    def peek(self):\n",
    "        if not self.is_empty():\n",
    "            return self.head.data\n",
    "        else:\n",
    "            raise IndexError('Peeking from an empty list')\n",
    "\n",
    "    def is_empty(self):\n",
    "        return self.head is None\n",
    "\n",
    "    def size(self):\n",
    "        if self.is_empty():\n",
    "            return 0\n",
    "        count = 1\n",
    "        current = self.head\n",
    "        while current.next != self.head:\n",
    "            current = current.next\n",
    "            count += 1\n",
    "        return count\n",
    "\n",
    "    def __str__(self):\n",
    "        if self.is_empty():\n",
    "            return \"Empty List\"\n",
    "        elements = []\n",
    "        current = self.head\n",
    "        while True:\n",
    "            elements.append(str(current.data))\n",
    "            current = current.next\n",
    "            if current == self.head:\n",
    "                break\n",
    "        return \" -> \".join(elements)\n",
    "\n",
    "# Test the Circular Linked List\n",
    "cll = CircularLinkedList()\n",
    "N = int(input(\"Enter the number of elements to push onto the circular linked list: \"))\n",
    "for i in range(1, N + 1):\n",
    "    cll.push(i)\n",
    "\n",
    "print(\"Top element after pushing:\", cll.peek())\n",
    "print(\"Circular linked list contents:\", cll)\n"
   ]
  }
 ],
 "metadata": {
  "kernelspec": {
   "display_name": "Python 3",
   "language": "python",
   "name": "python3"
  },
  "language_info": {
   "codemirror_mode": {
    "name": "ipython",
    "version": 3
   },
   "file_extension": ".py",
   "mimetype": "text/x-python",
   "name": "python",
   "nbconvert_exporter": "python",
   "pygments_lexer": "ipython3",
   "version": "3.12.0"
  }
 },
 "nbformat": 4,
 "nbformat_minor": 2
}
