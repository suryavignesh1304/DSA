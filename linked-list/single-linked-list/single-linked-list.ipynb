{
 "cells": [
  {
   "cell_type": "code",
   "execution_count": 1,
   "metadata": {},
   "outputs": [
    {
     "name": "stdout",
     "output_type": "stream",
     "text": [
      "Top element after pushing: 5\n",
      "Linked list contents: 5 -> 4 -> 3 -> 2 -> 1\n"
     ]
    }
   ],
   "source": [
    "class Node:\n",
    "    def __init__(self, data=None):\n",
    "        self.data = data\n",
    "        self.next = None\n",
    "\n",
    "class SinglyLinkedList:\n",
    "    def __init__(self):\n",
    "        self.head = None\n",
    "\n",
    "    def push(self, data):\n",
    "        new_node = Node(data)\n",
    "        new_node.next = self.head\n",
    "        self.head = new_node\n",
    "\n",
    "    def pop(self):\n",
    "        if not self.is_empty():\n",
    "            popped_node = self.head\n",
    "            self.head = self.head.next\n",
    "            return popped_node.data\n",
    "        else:\n",
    "            raise IndexError('Popping from an empty list')\n",
    "\n",
    "    def peek(self):\n",
    "        if not self.is_empty():\n",
    "            return self.head.data\n",
    "        else:\n",
    "            raise IndexError('Peeking from an empty list')\n",
    "\n",
    "    def is_empty(self):\n",
    "        return self.head is None\n",
    "\n",
    "    def size(self):\n",
    "        current = self.head\n",
    "        count = 0\n",
    "        while current:\n",
    "            count += 1\n",
    "            current = current.next\n",
    "        return count\n",
    "\n",
    "    def __str__(self):\n",
    "        current = self.head\n",
    "        elements = []\n",
    "        while current:\n",
    "            elements.append(str(current.data))\n",
    "            current = current.next\n",
    "        return \" -> \".join(elements) if elements else \"Empty List\"\n",
    "\n",
    "# Create a SinglyLinkedList object\n",
    "sll = SinglyLinkedList()\n",
    "\n",
    "# Input the size of the linked list\n",
    "N = int(input(\"Enter the number of elements to push onto the list: \"))\n",
    "\n",
    "# Push elements onto the linked list\n",
    "for i in range(1, N+1):\n",
    "    sll.push(i)\n",
    "\n",
    "# Peek at the top element of the list\n",
    "print(\"Top element after pushing:\", sll.peek())\n",
    "\n",
    "# Display the linked list\n",
    "print(\"Linked list contents:\", sll)\n"
   ]
  }
 ],
 "metadata": {
  "kernelspec": {
   "display_name": "Python 3",
   "language": "python",
   "name": "python3"
  },
  "language_info": {
   "codemirror_mode": {
    "name": "ipython",
    "version": 3
   },
   "file_extension": ".py",
   "mimetype": "text/x-python",
   "name": "python",
   "nbconvert_exporter": "python",
   "pygments_lexer": "ipython3",
   "version": "3.12.0"
  }
 },
 "nbformat": 4,
 "nbformat_minor": 2
}
