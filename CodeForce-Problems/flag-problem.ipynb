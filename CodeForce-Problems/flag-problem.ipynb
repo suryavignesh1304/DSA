{
 "cells": [
  {
   "cell_type": "markdown",
   "metadata": {},
   "source": [
    "C. Flag\n",
    "\n",
    "\n",
    "time limit per test2 seconds\n",
    "\n",
    "memory limit per test512 megabytes\n",
    "\n",
    "Innokenty works at a flea market and sells some random stuff rare items. Recently he found an old rectangular blanket. It turned out that the blanket is split in n.m colored pieces that form a rectangle with n rows and m columns.\n",
    "\n",
    "The colored pieces attracted Innokenty's attention so he immediately came up with the following business plan. If he cuts out a subrectangle consisting of three colored stripes, he can sell it as a flag of some country. Innokenty decided that a subrectangle is similar enough to a flag of some country if it consists of three stripes of equal heights placed one above another, where each stripe consists of cells of equal color. Of course, the color of the top stripe must be different from the color of the middle stripe; and the color of the middle stripe must be different from the color of the bottom stripe.\n",
    "\n",
    "Innokenty has not yet decided what part he will cut out, but he is sure that the flag's boundaries should go along grid lines. Also, Innokenty won't rotate the blanket. Please help Innokenty and count the number of different subrectangles Innokenty can cut out and sell as a flag. Two subrectangles located in different places but forming the same flag are still considered different\n",
    "\n",
    "\n",
    "Input:\n",
    "\n",
    "The first line contains two integers n\n",
    " and m\n",
    " (1≤n,m≤1000\n",
    ") — the number of rows and the number of columns on the blanket.\n",
    "\n",
    "Each of the next n\n",
    "\n",
    " lines contains m\n",
    " lowercase English letters from 'a' to 'z' and describes a row of the blanket. Equal letters correspond to equal colors, different letters correspond to different colors.\n",
    "\n",
    "Output:\n",
    "In the only line print the number of subrectangles which form valid flags.\n",
    "\n",
    "Examples\n",
    "InputCopy\n",
    "4 3\n",
    "aaa\n",
    "bbb\n",
    "ccb\n",
    "ddd\n",
    "OutputCopy\n",
    "6"
   ]
  },
  {
   "cell_type": "code",
   "execution_count": 2,
   "metadata": {},
   "outputs": [
    {
     "name": "stdout",
     "output_type": "stream",
     "text": [
      "0\n"
     ]
    }
   ],
   "source": [
    "def is_valid_flag(i, j, n, m, blanket):\n",
    "    if i + 2 >= n:\n",
    "        return False\n",
    "    for col in range(m):\n",
    "        if blanket[i][col] == blanket[i + 1][col] or blanket[i + 1][col] == blanket[i + 2][col] or blanket[i][col] == blanket[i + 2][col]:\n",
    "            return False\n",
    "    return True\n",
    "\n",
    "def count_flags(i, j, n, m, blanket):\n",
    "    if i > n - 3:\n",
    "        return 0\n",
    "    valid_flags_in_row = count_flags_in_row(i, 0, m, blanket)\n",
    "    return valid_flags_in_row + count_flags(i + 1, j, n, m, blanket)\n",
    "\n",
    "def count_flags_in_row(i, j, m, blanket):\n",
    "    if j >= m:\n",
    "        return 0\n",
    "    return (1 if is_valid_flag(i, j, n, m, blanket) else 0) + count_flags_in_row(i, j + 1, m, blanket)\n",
    "\n",
    "n, m = map(int, input().split())\n",
    "blanket = [input().strip() for _ in range(n)]\n",
    "result = count_flags(0, 0, n, m, blanket)\n",
    "print(result)"
   ]
  }
 ],
 "metadata": {
  "kernelspec": {
   "display_name": "Python 3",
   "language": "python",
   "name": "python3"
  },
  "language_info": {
   "codemirror_mode": {
    "name": "ipython",
    "version": 3
   },
   "file_extension": ".py",
   "mimetype": "text/x-python",
   "name": "python",
   "nbconvert_exporter": "python",
   "pygments_lexer": "ipython3",
   "version": "3.12.0"
  }
 },
 "nbformat": 4,
 "nbformat_minor": 2
}
