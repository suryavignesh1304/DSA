{
 "cells": [
  {
   "cell_type": "code",
   "execution_count": 1,
   "metadata": {},
   "outputs": [
    {
     "name": "stdout",
     "output_type": "stream",
     "text": [
      "Front element after enqueueing: 1\n",
      "Queue: 1 -> 2 -> 3 -> 4 -> 5\n",
      "Dequeued element: 1\n",
      "Queue: 2 -> 3 -> 4 -> 5\n"
     ]
    }
   ],
   "source": [
    "class QueueUsingStacks:\n",
    "    def __init__(self):\n",
    "        self.stack1 = []  # Primary stack\n",
    "        self.stack2 = []  # Secondary stack for reversing order\n",
    "\n",
    "    def enqueue(self, item):\n",
    "        self.stack1.append(item)\n",
    "\n",
    "    def dequeue(self):\n",
    "        if not self.stack2:  # If stack2 is empty, transfer all elements from stack1\n",
    "            while self.stack1:\n",
    "                self.stack2.append(self.stack1.pop())\n",
    "        if not self.stack2:  # If stack2 is still empty, the queue is empty\n",
    "            raise IndexError(\"Dequeue from an empty queue\")\n",
    "        return self.stack2.pop()\n",
    "\n",
    "    def peek(self):\n",
    "        if not self.stack2:  # If stack2 is empty, transfer elements from stack1\n",
    "            while self.stack1:\n",
    "                self.stack2.append(self.stack1.pop())\n",
    "        if not self.stack2:  # If still empty, the queue is empty\n",
    "            raise IndexError(\"Peeking from an empty queue\")\n",
    "        return self.stack2[-1]\n",
    "\n",
    "    def is_empty(self):\n",
    "        return not (self.stack1 or self.stack2)\n",
    "\n",
    "    def size(self):\n",
    "        return len(self.stack1) + len(self.stack2)\n",
    "\n",
    "    def __str__(self):\n",
    "        # To print the current state of the queue\n",
    "        if self.stack2:\n",
    "            queue_contents = self.stack2[::-1] + self.stack1\n",
    "        else:\n",
    "            queue_contents = self.stack1\n",
    "        return \"Queue: \" + \" -> \".join(map(str, queue_contents))\n",
    "\n",
    "# Test the QueueUsingStacks\n",
    "queue = QueueUsingStacks()\n",
    "\n",
    "# Enqueue elements\n",
    "N = int(input(\"Enter the number of elements to enqueue: \"))\n",
    "for i in range(1, N + 1):\n",
    "    queue.enqueue(i)\n",
    "\n",
    "# Peek at the front element\n",
    "print(\"Front element after enqueueing:\", queue.peek())\n",
    "\n",
    "# Display the queue\n",
    "print(queue)\n",
    "\n",
    "# Dequeue an element\n",
    "print(\"Dequeued element:\", queue.dequeue())\n",
    "\n",
    "# Display the queue after dequeue\n",
    "print(queue)\n"
   ]
  }
 ],
 "metadata": {
  "kernelspec": {
   "display_name": "Python 3",
   "language": "python",
   "name": "python3"
  },
  "language_info": {
   "codemirror_mode": {
    "name": "ipython",
    "version": 3
   },
   "file_extension": ".py",
   "mimetype": "text/x-python",
   "name": "python",
   "nbconvert_exporter": "python",
   "pygments_lexer": "ipython3",
   "version": "3.12.0"
  }
 },
 "nbformat": 4,
 "nbformat_minor": 2
}
