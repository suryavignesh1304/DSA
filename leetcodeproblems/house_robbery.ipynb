{
 "cells": [
  {
   "cell_type": "markdown",
   "metadata": {},
   "source": [
    "You are a robber planning to rob houses along a street. Each house has a certain amount of money stashed. However, adjacent houses have security systems connected, so you cannot rob two adjacent houses. Find the maximum amount of money you can rob."
   ]
  },
  {
   "cell_type": "code",
   "execution_count": 3,
   "metadata": {},
   "outputs": [
    {
     "data": {
      "text/plain": [
       "13"
      ]
     },
     "execution_count": 3,
     "metadata": {},
     "output_type": "execute_result"
    }
   ],
   "source": [
    "class Solution:\n",
    "    def rob(self, nums: list[int]) -> int:\n",
    "        rob1, rob2 = 0, 0\n",
    "        for n in nums:\n",
    "            temp = max(n + rob1, rob2)\n",
    "            rob1 = rob2\n",
    "            rob2 = temp\n",
    "        return rob2\n",
    "s=Solution()\n",
    "s.rob([1,2,3,4,9,3])"
   ]
  }
 ],
 "metadata": {
  "kernelspec": {
   "display_name": "Python 3",
   "language": "python",
   "name": "python3"
  },
  "language_info": {
   "codemirror_mode": {
    "name": "ipython",
    "version": 3
   },
   "file_extension": ".py",
   "mimetype": "text/x-python",
   "name": "python",
   "nbconvert_exporter": "python",
   "pygments_lexer": "ipython3",
   "version": "3.12.0"
  }
 },
 "nbformat": 4,
 "nbformat_minor": 2
}
