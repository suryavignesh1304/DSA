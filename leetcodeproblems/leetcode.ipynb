{
 "cells": [
  {
   "cell_type": "code",
   "execution_count": 1,
   "metadata": {},
   "outputs": [
    {
     "name": "stdout",
     "output_type": "stream",
     "text": [
      "[1, 2, 3, 5]\n"
     ]
    }
   ],
   "source": [
    "def solve(arr:int)-> list:\n",
    "    a=arr[-1]+1\n",
    "    del arr[-1]\n",
    "    arr.append(a)\n",
    "    return arr\n",
    "print(solve([1,2,3,4]))"
   ]
  },
  {
   "cell_type": "code",
   "execution_count": 21,
   "metadata": {},
   "outputs": [
    {
     "name": "stdout",
     "output_type": "stream",
     "text": [
      "False\n"
     ]
    }
   ],
   "source": [
    "class Solution:\n",
    "    def isPowerOfTwo(self, n: int) -> bool:\n",
    "        if n == 0:\n",
    "            return False\n",
    "        \n",
    "        while n > 0:\n",
    "            if n == 1:\n",
    "                return True\n",
    "            if n % 2 != 0:\n",
    "                break\n",
    "            n //= 2\n",
    "        return False\n",
    "\n",
    "solution = Solution()\n",
    "print(solution.isPowerOfTwo(6))"
   ]
  },
  {
   "cell_type": "code",
   "execution_count": 10,
   "metadata": {},
   "outputs": [
    {
     "name": "stdout",
     "output_type": "stream",
     "text": [
      "[1, 2]\n"
     ]
    }
   ],
   "source": [
    "def duplicate_remove(arr: list) -> list:\n",
    "    if not arr:\n",
    "        return arr\n",
    "    \n",
    "    b = [arr[0]]\n",
    "    for i in range(1, len(arr)):\n",
    "        if arr[i] != arr[i - 1]:\n",
    "            b.append(arr[i])\n",
    "    return b\n",
    "\n",
    "print(duplicate_remove([1, 1, 2]))\n"
   ]
  },
  {
   "cell_type": "code",
   "execution_count": 3,
   "metadata": {},
   "outputs": [
    {
     "name": "stdout",
     "output_type": "stream",
     "text": [
      "['((()))', '(()())', '(())()', '()(())', '()()()']\n"
     ]
    }
   ],
   "source": [
    "def backtrack(n, leftCount, rightCount, output, result):\n",
    "    \n",
    "    if leftCount == n and rightCount == n:\n",
    "        outputStr = \"\".join(output)\n",
    "        result.append(outputStr)\n",
    "        return\n",
    "\n",
    "    if leftCount < n:\n",
    "        output.append(\"(\")\n",
    "        backtrack(n, leftCount + 1, rightCount, output, result)\n",
    "        output.pop()\n",
    "\n",
    "    if rightCount < leftCount:\n",
    "        output.append(\")\")\n",
    "        backtrack(n, leftCount, rightCount + 1, output, result)\n",
    "        output.pop()\n",
    "\n",
    "\n",
    "class Solution:\n",
    "    def generateParenthesis(self, n: int) -> list[str]:\n",
    "        \n",
    "        result = []\n",
    "        output = []\n",
    "        backtrack(n, 0, 0, output, result)\n",
    "        return result\n",
    "\n",
    "# Example usage:\n",
    "solution = Solution()\n",
    "print(solution.generateParenthesis(3))"
   ]
  },
  {
   "cell_type": "code",
   "execution_count": 4,
   "metadata": {},
   "outputs": [
    {
     "name": "stdout",
     "output_type": "stream",
     "text": [
      "['((()))', '(()())', '(())()', '()(())', '()()()']\n"
     ]
    }
   ],
   "source": [
    "def generateParenthesis(n: int)-> list[str]:\n",
    "    result=[]\n",
    "    output=[]\n",
    "    leftcount=0\n",
    "    rightcount=0\n",
    "    if leftcount == n and rightcount == n:\n",
    "        outputStr = \"\".join(output)\n",
    "        result.append(outputStr)\n",
    "        return\n",
    "\n",
    "    if leftcount < n:\n",
    "        output.append(\"(\")\n",
    "        backtrack(n, leftcount + 1, rightcount, output, result)\n",
    "        output.pop()\n",
    "\n",
    "    if rightcount < leftcount:\n",
    "        output.append(\")\")\n",
    "        backtrack(n, leftcount, rightcount + 1, output, result)\n",
    "        output.pop()\n",
    "        \n",
    "    return result\n",
    "\n",
    "print(generateParenthesis(3))\n"
   ]
  },
  {
   "cell_type": "code",
   "execution_count": 9,
   "metadata": {},
   "outputs": [
    {
     "name": "stdout",
     "output_type": "stream",
     "text": [
      "[[7, 4, 1], [8, 5, 4], [9, 8, 7]]\n"
     ]
    }
   ],
   "source": [
    "class Solution:\n",
    "    def rotate(self, matrix: list[list[int]]) -> None:\n",
    "        n = len(matrix)\n",
    "\n",
    "        for i in range(n):\n",
    "            for j in range(i + 1, n):\n",
    "                matrix[i][j], matrix[j][i] = matrix[j][i], matrix[i][j]\n",
    "\n",
    "        for row in matrix:\n",
    "            row.reverse()\n",
    "\n",
    "matrix = [[1, 2, 3], [4, 5, 6], [7, 8, 9]]\n",
    "s = Solution()\n",
    "s.rotate(matrix)\n",
    "print(matrix)"
   ]
  },
  {
   "cell_type": "code",
   "execution_count": 8,
   "metadata": {},
   "outputs": [
    {
     "name": "stdout",
     "output_type": "stream",
     "text": [
      "None\n",
      "[[7, 4, 1], [8, 5, 4], [9, 8, 7]]\n"
     ]
    }
   ],
   "source": [
    "def rotate(matrix: list[list[int]])->None:\n",
    "    n=len(matrix)\n",
    "    \n",
    "    for i in range(n):\n",
    "        for j in range(i+1,n):\n",
    "            matrix[i][j]=matrix[j][i]\n",
    "            \n",
    "    for row in matrix:\n",
    "        row.reverse()\n",
    "        \n",
    "m=[[1, 2, 3], [4, 5, 6], [7, 8, 9]]\n",
    "rotate(m)\n",
    "print(m)"
   ]
  },
  {
   "cell_type": "code",
   "execution_count": null,
   "metadata": {},
   "outputs": [],
   "source": [
    "class Solution:\n",
    "    def isInterleave(self, s1: str, s2: str, s3: str) -> bool:\n",
    "        if len(s1) + len(s2) != len(s3):\n",
    "            return False\n",
    "        m, n = len(s1), len(s2)\n",
    "        dp = [[False] * (n + 1) for _ in range(m + 1)]\n",
    "        dp[m][n] = True\n",
    "        for i in range(m, -1, -1):\n",
    "            for j in range(n, -1, -1):\n",
    "                if i < m and s1[i] == s3[i + j] and dp[i + 1][j]:\n",
    "                    dp[i][j] = True\n",
    "                if j < n and s2[j] == s3[i + j] and dp[i][j + 1]:\n",
    "                    dp[i][j] = True\n",
    "        return dp[0][0]\n",
    "    \n"
   ]
  },
  {
   "cell_type": "markdown",
   "metadata": {},
   "source": [
    "number of jumps required for an array to reach the end index using the number as its constraint\n",
    "Given an array of integers, you can traverse from either left or right direction. Find the minimum number of jumps required to find a given element."
   ]
  },
  {
   "cell_type": "code",
   "execution_count": 8,
   "metadata": {},
   "outputs": [
    {
     "name": "stdout",
     "output_type": "stream",
     "text": [
      "2\n"
     ]
    }
   ],
   "source": [
    "class Solution:\n",
    "    def jump(self, nums: list[int]) -> int:\n",
    "        near = far = jumps = 0\n",
    "        while far < len(nums) - 1:\n",
    "            farthest = 0\n",
    "            for i in range(near, far + 1):\n",
    "                j=nums[i]\n",
    "                farthest = max(farthest, i+j)\n",
    "            \n",
    "            near = far + 1\n",
    "            far = farthest\n",
    "            jumps += 1\n",
    "        \n",
    "        return jumps\n",
    "sol = Solution()\n",
    "\n",
    "nums = [2, 3, 1, 1, 4]\n",
    "print(sol.jump(nums))  "
   ]
  },
  {
   "cell_type": "markdown",
   "metadata": {},
   "source": [
    "Given an Array of String containing names of Tools (can have duplicates), the Starting index and A Target Tool, find the Minimum Number of Steps required to reach the target tool from the starting index. The Array is Circular, that is, If you reach the End of the array, you can go to its start and vice versa.\n",
    "\n",
    "Sample Testcase:\n",
    "\n",
    "Tools : ['saw', 'hammer', 'mallet',\n",
    "'file', 'saw', 'ladder', 'scissor']\n",
    "Starting Index : 6 {i.e. 'scissor'}\n",
    "To Find : 'saw'\n",
    "Answer:\n",
    "\n",
    "1\n",
    "Minimum Steps = min(2 Steps to Left, 1 Step to Right [Circular]) = 1 Step\n"
   ]
  },
  {
   "cell_type": "code",
   "execution_count": 10,
   "metadata": {},
   "outputs": [
    {
     "name": "stdout",
     "output_type": "stream",
     "text": [
      "2\n"
     ]
    }
   ],
   "source": [
    "def search_tool(tools,start,target):\n",
    "    c=0\n",
    "    i=j=start\n",
    "    while True:\n",
    "        if tools[i]==target or tools[j]==target:\n",
    "            break\n",
    "        i-=1\n",
    "        j+=1\n",
    "        c+=1\n",
    "    return c\n",
    "\n",
    "tools = ['saw', 'hammer', 'mallet', 'file', 'saw', 'ladder', 'scissor']\n",
    "print(search_tool(tools, 3, 'hammer'))"
   ]
  },
  {
   "cell_type": "code",
   "execution_count": 4,
   "metadata": {},
   "outputs": [
    {
     "name": "stdout",
     "output_type": "stream",
     "text": [
      "2\n"
     ]
    }
   ],
   "source": [
    "def rpg(n: int, initial: int, poweri: list[int], bonusi: list[int]) -> int:\n",
    "    monsters = sorted(zip(poweri, bonusi), key=lambda x: x[0])\n",
    "    \n",
    "    c = 0\n",
    "    current_experience = initial\n",
    "    \n",
    "    for power, bonus in monsters:\n",
    "        if current_experience >= power:\n",
    "            c += 1\n",
    "            current_experience += bonus\n",
    "        else:\n",
    "            break\n",
    "    \n",
    "    return c\n",
    "\n",
    "n = 2\n",
    "initial = 123\n",
    "poweri = [78, 130]\n",
    "bonusi = [10, 0]\n",
    "print(rpg(n, initial, poweri, bonusi)) \n"
   ]
  },
  {
   "cell_type": "code",
   "execution_count": 9,
   "metadata": {},
   "outputs": [],
   "source": [
    "class Solution:\n",
    "    def maximumBinaryString(self, binary: str) -> str:\n",
    "\n",
    "        if '0' not in binary: return binary\n",
    "        left0, zeros = binary.find('0'), binary.count('0')\n",
    "\n",
    "        ans = '1'*(left0+zeros-1) + '0'\n",
    "        return ans.ljust(len(binary), '1')\n"
   ]
  },
  {
   "cell_type": "code",
   "execution_count": null,
   "metadata": {},
   "outputs": [],
   "source": [
    "class Solution:\n",
    "    def splitArray(self, nums: list[int], k: int) -> int:\n",
    "        if k==1:\n",
    "            return sum(nums)\n",
    "        l,r=max(nums),sum(nums)\n",
    "        while l<=r:\n",
    "            mid=(l+r)//2\n",
    "            s=0\n",
    "            splits=1\n",
    "            for i in nums:\n",
    "                s+=i\n",
    "                if s <=mid:\n",
    "                    continue\n",
    "                splits+=1\n",
    "                s=i\n",
    "            if splits>k:\n",
    "                l=mid+1\n",
    "            else:\n",
    "                r=mid-1\n",
    "        return l            "
   ]
  }
 ],
 "metadata": {
  "kernelspec": {
   "display_name": "Python 3",
   "language": "python",
   "name": "python3"
  },
  "language_info": {
   "codemirror_mode": {
    "name": "ipython",
    "version": 3
   },
   "file_extension": ".py",
   "mimetype": "text/x-python",
   "name": "python",
   "nbconvert_exporter": "python",
   "pygments_lexer": "ipython3",
   "version": "3.12.0"
  }
 },
 "nbformat": 4,
 "nbformat_minor": 2
}
