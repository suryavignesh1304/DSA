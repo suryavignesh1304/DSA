{
 "cells": [
  {
   "cell_type": "markdown",
   "metadata": {},
   "source": [
    "# Find Triangular Sum of an Array"
   ]
  },
  {
   "cell_type": "markdown",
   "metadata": {},
   "source": [
    "### Description:\n",
    "You are given a 0-indexed integer array nums, where nums[i] is a digit between 0 and 9 (inclusive).\n",
    "\n",
    "The triangular sum of nums is the value of the only element present in nums after the following process terminates:\n",
    "\n",
    "1.Let nums comprise of n elements. If n == 1, end the process. Otherwise, create a new 0-indexed integer array newNums of length n - 1.\n",
    "\n",
    "2.For each index i, where 0 <= i < n - 1, assign the value of newNums[i] as (nums[i] + nums[i+1]) % 10, where % denotes modulo operator.\n",
    "\n",
    "3.Replace the array nums with newNums.\n",
    "\n",
    "4.Repeat the entire process starting from step 1.\n",
    "\n",
    "5.Return the triangular sum of nums."
   ]
  },
  {
   "cell_type": "markdown",
   "metadata": {},
   "source": [
    "#### Examples\n",
    "Example-1:\n",
    "\n",
    "Input: nums = [1,2,3,4,5]\n",
    "\n",
    "Output: 8\n",
    "\n",
    "Explanation:\n",
    "The above diagram depicts the process from which we obtain the triangular sum of the array.\n",
    "\n",
    "Example 2:\n",
    "\n",
    "Input: nums = [5]\n",
    "\n",
    "Output: 5\n",
    "\n",
    "Explanation:\n",
    "Since there is only one element in nums, the triangular sum is the value of that element itself."
   ]
  },
  {
   "cell_type": "markdown",
   "metadata": {},
   "source": [
    "#### Constraints:\n",
    "\n",
    "1 <= nums.length <= 1000\n",
    "\n",
    "0 <= nums[i] <= 9"
   ]
  },
  {
   "cell_type": "code",
   "execution_count": 2,
   "metadata": {},
   "outputs": [
    {
     "name": "stdout",
     "output_type": "stream",
     "text": [
      "8\n"
     ]
    }
   ],
   "source": [
    "class Solution:\n",
    "    def triangularSum(self, nums: list[int]) -> int:\n",
    "        while len(nums) > 1:\n",
    "            newNums = [(nums[i] + nums[i + 1]) % 10 for i in range(len(nums) - 1)]\n",
    "            nums = newNums\n",
    "        return nums[0] \n",
    "s=Solution()\n",
    "print(s.triangularSum([1,2,3,4,5]))"
   ]
  }
 ],
 "metadata": {
  "kernelspec": {
   "display_name": "Python 3",
   "language": "python",
   "name": "python3"
  },
  "language_info": {
   "codemirror_mode": {
    "name": "ipython",
    "version": 3
   },
   "file_extension": ".py",
   "mimetype": "text/x-python",
   "name": "python",
   "nbconvert_exporter": "python",
   "pygments_lexer": "ipython3",
   "version": "3.12.0"
  }
 },
 "nbformat": 4,
 "nbformat_minor": 2
}
