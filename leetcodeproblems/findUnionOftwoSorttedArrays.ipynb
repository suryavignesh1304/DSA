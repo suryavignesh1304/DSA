{
 "cells": [
  {
   "cell_type": "markdown",
   "metadata": {},
   "source": [
    "# Union of Two Sorted Arrays"
   ]
  },
  {
   "cell_type": "markdown",
   "metadata": {},
   "source": [
    "Given two sorted arrays of size n and m respectively, find their union. The Union of two arrays can be defined as the common and distinct elements in the two arrays. Return the elements in sorted order."
   ]
  },
  {
   "cell_type": "markdown",
   "metadata": {},
   "source": [
    "### Examples\n",
    "Example-1:-\n",
    "\n",
    "Input: \n",
    "\n",
    "n = 5, arr1[] = {1, 2, 3, 4, 5}  \n",
    "\n",
    "m = 5, arr2 [] = {1, 2, 3, 6, 7}\n",
    "\n",
    "Output: \n",
    "\n",
    "1 2 3 4 5 6 7\n",
    "\n",
    "Explanation: \n",
    "Distinct elements including both the arrays are: 1 2 3 4 5 6 7.\n",
    "\n",
    "Example-2:-\n",
    "\n",
    "Input:\n",
    "\n",
    "n = 5, arr1[] = {1, 1, 1, 1, 1}\n",
    "\n",
    "m = 5, arr2[] = {2, 2, 2, 2, 2}\n",
    "\n",
    "Output: \n",
    "\n",
    "1 2\n",
    "\n",
    "Explanation: \n",
    "Distinct elements including both the arrays are: 1 2.\n",
    "\n"
   ]
  },
  {
   "cell_type": "code",
   "execution_count": 1,
   "metadata": {},
   "outputs": [
    {
     "name": "stdout",
     "output_type": "stream",
     "text": [
      "[1, 2, 3, 4, 5, 6, 7]\n"
     ]
    }
   ],
   "source": [
    "class Solution:\n",
    "    def findUnion(self,arr1,arr2,n,m):\n",
    "        a=set(arr1)\n",
    "        arr1=list(arr1)\n",
    "        b=set(arr2)\n",
    "        arr2=list(b)\n",
    "        \n",
    "        arr3=arr1+arr2\n",
    "        c=set(arr3)\n",
    "        arr3=list(c)\n",
    "        arr3.sort()\n",
    "        return arr3\n",
    "s=Solution()\n",
    "n=5\n",
    "arr1={1, 2, 3, 4, 5}\n",
    "m=5\n",
    "arr2={1, 2, 3, 6, 7}\n",
    "print(s.findUnion(arr1,arr2,n,m))"
   ]
  }
 ],
 "metadata": {
  "kernelspec": {
   "display_name": "Python 3",
   "language": "python",
   "name": "python3"
  },
  "language_info": {
   "codemirror_mode": {
    "name": "ipython",
    "version": 3
   },
   "file_extension": ".py",
   "mimetype": "text/x-python",
   "name": "python",
   "nbconvert_exporter": "python",
   "pygments_lexer": "ipython3",
   "version": "3.12.0"
  }
 },
 "nbformat": 4,
 "nbformat_minor": 2
}
